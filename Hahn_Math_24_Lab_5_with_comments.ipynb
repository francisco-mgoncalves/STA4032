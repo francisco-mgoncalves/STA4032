{
  "nbformat": 4,
  "nbformat_minor": 0,
  "metadata": {
    "colab": {
      "provenance": [],
      "include_colab_link": true
    },
    "kernelspec": {
      "name": "python3",
      "display_name": "Python 3"
    },
    "language_info": {
      "name": "python"
    }
  },
  "cells": [
    {
      "cell_type": "markdown",
      "metadata": {
        "id": "view-in-github",
        "colab_type": "text"
      },
      "source": [
        "<a href=\"https://colab.research.google.com/github/francisco-mgoncalves/STA4032/blob/main/Hahn_Math_24_Lab_5_with_comments.ipynb\" target=\"_parent\"><img src=\"https://colab.research.google.com/assets/colab-badge.svg\" alt=\"Open In Colab\"/></a>"
      ]
    },
    {
      "cell_type": "code",
      "metadata": {
        "id": "xOGTsXv1WHP9"
      },
      "source": [
        "import matplotlib.pyplot as plt #Imports a module (pyplot) from a library (matplotlib) and names it plt. This module is used to create plots and visualizations\n",
        "import imageio #Imports imageio library, which is used to analyse image data\n",
        "from PIL import Image #Imports a module from Python imaging library used to work with images"
      ],
      "execution_count": null,
      "outputs": []
    },
    {
      "cell_type": "code",
      "metadata": {
        "id": "CXSqNoaoWHQB"
      },
      "source": [
        "def plot(x):\n",
        "    fig, ax = plt.subplots() #Creates a figure and subplots\n",
        "    im = ax.imshow(x,cmap='gray') #Displays the image in a greyscale colormap\n",
        "    ax.axis('off') #Turns off the axes\n",
        "    fig.set_size_inches(20, 20) #Sets the figure's size (width, height)\n",
        "    plt.show() #Displays the plot"
      ],
      "execution_count": null,
      "outputs": []
    },
    {
      "cell_type": "code",
      "metadata": {
        "id": "I4N7peO5WHQD",
        "colab": {
          "base_uri": "https://localhost:8080/"
        },
        "outputId": "f4bea74d-91df-46c9-ad4d-3038e05c56e2"
      },
      "source": [
        "im = imageio.imread('https://lospec.com/palette-list/st-64-natural-1x.png') #Reads and returns the data from the image  in the URL and assigns that data to the \"im\" variable"
      ],
      "execution_count": null,
      "outputs": [
        {
          "output_type": "stream",
          "name": "stderr",
          "text": [
            "<ipython-input-7-59ae6258f41e>:1: DeprecationWarning: Starting with ImageIO v3 the behavior of this function will switch to that of iio.v3.imread. To keep the current behavior (and make this warning disappear) use `import imageio.v2 as imageio` or call `imageio.v2.imread` directly.\n",
            "  im = imageio.imread('https://lospec.com/palette-list/st-64-natural-1x.png') #Reads and returns the data from the image  in the URL and assigns that data to the \"im\" variable\n"
          ]
        }
      ]
    },
    {
      "cell_type": "code",
      "metadata": {
        "id": "6rfeaoMLWHQG",
        "colab": {
          "base_uri": "https://localhost:8080/",
          "height": 49
        },
        "outputId": "580f1686-a1b1-463f-a2b5-8f8dd413e0f1"
      },
      "source": [
        "plot(im) #Displays the image with the properties set before"
      ],
      "execution_count": null,
      "outputs": [
        {
          "output_type": "display_data",
          "data": {
            "text/plain": [
              "<Figure size 2000x2000 with 1 Axes>"
            ],
            "image/png": "[encoded data removed]"
          },
          "metadata": {}
        }
      ]
    },
    {
      "cell_type": "code",
      "source": [
        "im.shape. #One Image with 64 rows of pixels and 3 color channels"
      ],
      "metadata": {
        "colab": {
          "base_uri": "https://localhost:8080/",
          "height": 106
        },
        "id": "xoSZEpbBvIFm",
        "outputId": "a0a060b9-9bcb-47a9-82ee-38c39d46e77c"
      },
      "execution_count": null,
      "outputs": [
        {
          "output_type": "error",
          "ename": "SyntaxError",
          "evalue": "invalid syntax (<ipython-input-12-edb9b0654928>, line 1)",
          "traceback": [
            "\u001b[0;36m  File \u001b[0;32m\"<ipython-input-12-edb9b0654928>\"\u001b[0;36m, line \u001b[0;32m1\u001b[0m\n\u001b[0;31m    im.shape. #One Image with 64 rows of pixels and 3 color channels\u001b[0m\n\u001b[0m              ^\u001b[0m\n\u001b[0;31mSyntaxError\u001b[0m\u001b[0;31m:\u001b[0m invalid syntax\n"
          ]
        }
      ]
    },
    {
      "cell_type": "code",
      "source": [
        "plot(im[:,40:41,:]) #Selects and displays a specific horizontal line of pixels from \"im.shape\""
      ],
      "metadata": {
        "id": "Rx_dgOyOvRUK"
      },
      "execution_count": null,
      "outputs": []
    },
    {
      "cell_type": "code",
      "source": [
        "im[:,40:41,:]. #8 pixel row with 3 color channel values"
      ],
      "metadata": {
        "id": "RvYEiukLvYhY"
      },
      "execution_count": null,
      "outputs": []
    },
    {
      "cell_type": "code",
      "metadata": {
        "id": "wizRF0UvyACu"
      },
      "source": [
        "im = imageio.imread('https://lospec.com/palette-list/waverator-1x.png') #Reads and returns the data from the image  in the URL and assigns that data to the \"im\" variable"
      ],
      "execution_count": null,
      "outputs": []
    },
    {
      "cell_type": "code",
      "metadata": {
        "id": "jUNaa3CAyADC"
      },
      "source": [
        "plot(im) #Displays im"
      ],
      "execution_count": null,
      "outputs": []
    },
    {
      "cell_type": "code",
      "source": [
        "im"
      ],
      "metadata": {
        "id": "xFAsfqJeyB_L"
      },
      "execution_count": null,
      "outputs": []
    },
    {
      "cell_type": "code",
      "metadata": {
        "id": "b35ccmHsyazP"
      },
      "source": [
        "im = imageio.imread('https://lospec.com/palette-list/sweetie-16-1x.png')"
      ],
      "execution_count": null,
      "outputs": []
    },
    {
      "cell_type": "code",
      "metadata": {
        "id": "1AdKzOAXyazQ"
      },
      "source": [
        "plot(im)"
      ],
      "execution_count": null,
      "outputs": []
    },
    {
      "cell_type": "code",
      "source": [],
      "metadata": {
        "id": "E7H2jnSW93Uo"
      },
      "execution_count": null,
      "outputs": []
    },
    {
      "cell_type": "code",
      "source": [
        "import numpy as np\n",
        "import matplotlib.pyplot as plt"
      ],
      "metadata": {
        "id": "ozA3ReViYiw8"
      },
      "execution_count": null,
      "outputs": []
    },
    {
      "cell_type": "code",
      "source": [
        "# Binary image\n",
        "binary_image = np.array([\n",
        "    [0, 1, 0],\n",
        "    [1, 1, 1],\n",
        "    [0, 1, 0]\n",
        "])"
      ],
      "metadata": {
        "id": "SLb3jQfn5n_e"
      },
      "execution_count": null,
      "outputs": []
    },
    {
      "cell_type": "code",
      "source": [
        "binary_image"
      ],
      "metadata": {
        "id": "tkoQNj5K9qvB"
      },
      "execution_count": null,
      "outputs": []
    },
    {
      "cell_type": "code",
      "source": [
        "plt.imshow(binary_image, cmap='gray')"
      ],
      "metadata": {
        "id": "So9oakbf5L-O"
      },
      "execution_count": null,
      "outputs": []
    },
    {
      "cell_type": "code",
      "source": [
        "# Grayscale image\n",
        "grayscale_image = np.array([\n",
        "    [50, 100, 150],\n",
        "    [200, 255, 200],\n",
        "    [150, 100, 50]\n",
        "])\n",
        "plt.imshow(grayscale_image, cmap='gray', vmin=0, vmax=255)"
      ],
      "metadata": {
        "id": "6oy7Grh25mMQ"
      },
      "execution_count": null,
      "outputs": []
    },
    {
      "cell_type": "code",
      "source": [
        "# Grayscale image\n",
        "grayscale_image = np.array([\n",
        "    [0.2, 0.4, 0.6],\n",
        "    [0.8, 1.0, 0.8],\n",
        "    [0.6, 0.4, 0.2]\n",
        "])\n",
        "plt.imshow(grayscale_image, cmap='gray')"
      ],
      "metadata": {
        "id": "oWuqeR1t_mkk"
      },
      "execution_count": null,
      "outputs": []
    },
    {
      "cell_type": "code",
      "source": [
        "# RGB image\n",
        "rgb_image = np.array([\n",
        "    [[255, 0, 0], [0, 255, 0], [0, 0, 255]],\n",
        "    [[255, 255, 0], [0, 255, 255], [255, 0, 255]],\n",
        "    [[128, 128, 128], [255, 255, 255], [0, 0, 0]]\n",
        "])"
      ],
      "metadata": {
        "id": "yA_f7pwk5mgD"
      },
      "execution_count": null,
      "outputs": []
    },
    {
      "cell_type": "code",
      "source": [
        "rgb_image"
      ],
      "metadata": {
        "id": "KltPutRz5N3n"
      },
      "execution_count": null,
      "outputs": []
    },
    {
      "cell_type": "code",
      "source": [
        "plt.imshow(rgb_image)"
      ],
      "metadata": {
        "id": "p_us3Y1u5dcp"
      },
      "execution_count": null,
      "outputs": []
    },
    {
      "cell_type": "code",
      "source": [
        "# RGB image\n",
        "rgb_image = np.array([\n",
        "    [[1, 0, 0], [0, 1, 0], [0, 0, 1]],\n",
        "    [[1, 1, 0], [0, 1, 1], [1, 0, 1]],\n",
        "    [[0.5, 0.5, 0.5], [1, 1, 1], [0, 0, 0]]\n",
        "])"
      ],
      "metadata": {
        "id": "CqaM0e5S5yeL"
      },
      "execution_count": null,
      "outputs": []
    },
    {
      "cell_type": "code",
      "source": [
        "# RGB image\n",
        "rgb_image = np.array([\n",
        "    [[1, 0, 0], [0, 1, 0], [0, 0, 1]],\n",
        "    [[1, 1, 0], [0, 1, 1], [1, 0, 1]],\n",
        "\n",
        "])"
      ],
      "metadata": {
        "id": "uiBsECTu-cEp"
      },
      "execution_count": null,
      "outputs": []
    },
    {
      "cell_type": "code",
      "source": [
        "rgb_image"
      ],
      "metadata": {
        "id": "kiZGrkym5yeM"
      },
      "execution_count": null,
      "outputs": []
    },
    {
      "cell_type": "code",
      "source": [
        "plt.imshow(rgb_image*255)"
      ],
      "metadata": {
        "id": "1ZdxKDfU5yeN"
      },
      "execution_count": null,
      "outputs": []
    },
    {
      "cell_type": "code",
      "source": [],
      "metadata": {
        "id": "4orjEX4u5khN"
      },
      "execution_count": null,
      "outputs": []
    },
    {
      "cell_type": "code",
      "source": [
        "x = np.zeros((2,2,3)) #Creates a shape with 2 rows, 2 columns and 3 color channels\n",
        "x[:,:,0] = 1 # Assigns red to all the pixels\n",
        "plt.imshow(x) # Plots the image"
      ],
      "metadata": {
        "id": "Uiws1qxK6jBh"
      },
      "execution_count": null,
      "outputs": []
    },
    {
      "cell_type": "code",
      "source": [
        "x = np.zeros((2,2,3))\n",
        "x[:,:,1] = 1\n",
        "plt.imshow(x)"
      ],
      "metadata": {
        "id": "4fO6fR3x6Nnr"
      },
      "execution_count": null,
      "outputs": []
    },
    {
      "cell_type": "code",
      "source": [
        "x = np.zeros((2,2,3))\n",
        "x[:,:,2] = 1\n",
        "plt.imshow(x)"
      ],
      "metadata": {
        "id": "OykuOX3p6NsV"
      },
      "execution_count": null,
      "outputs": []
    },
    {
      "cell_type": "code",
      "source": [
        "x = np.zeros((2,2,3)) #Mixes pre-established colors from the RGB color channels to create new colors\n",
        "x[:,:,0] = 1\n",
        "x[:,:,1] = 1\n",
        "plt.imshow(x)"
      ],
      "metadata": {
        "id": "2kDsLE886NwB"
      },
      "execution_count": null,
      "outputs": []
    },
    {
      "cell_type": "code",
      "source": [
        "x = np.zeros((2,2,3))\n",
        "x[:,:,1] = 1\n",
        "x[:,:,2] = 1\n",
        "plt.imshow(x)"
      ],
      "metadata": {
        "id": "Nb2t0vLv6zsl"
      },
      "execution_count": null,
      "outputs": []
    },
    {
      "cell_type": "code",
      "source": [
        "x = np.zeros((2,2,3))\n",
        "x[:,:,0] = 1\n",
        "x[:,:,2] = 1\n",
        "plt.imshow(x)"
      ],
      "metadata": {
        "id": "nLZV243L6vex"
      },
      "execution_count": null,
      "outputs": []
    },
    {
      "cell_type": "code",
      "source": [
        "x = np.zeros((2,2,3))\n",
        "x[:,:,0] = 0.5\n",
        "x[:,:,1] = 0.5\n",
        "x[:,:,2] = 0.5\n",
        "plt.imshow(x)"
      ],
      "metadata": {
        "id": "55sJlmMw7DRv"
      },
      "execution_count": null,
      "outputs": []
    },
    {
      "cell_type": "code",
      "source": [
        "x = np.zeros((2,2,3))\n",
        "x[:,:,0] = 1\n",
        "x[:,:,1] = 1\n",
        "x[:,:,2] = 1\n",
        "plt.imshow(x)"
      ],
      "metadata": {
        "id": "o5-hvRId7Amb"
      },
      "execution_count": null,
      "outputs": []
    },
    {
      "cell_type": "code",
      "source": [
        "x = np.zeros((2,2,3))\n",
        "x[:,:,0] = 0\n",
        "x[:,:,1] = 0\n",
        "x[:,:,2] = 0\n",
        "plt.imshow(x)"
      ],
      "metadata": {
        "id": "wGQYd7mj7GlL"
      },
      "execution_count": null,
      "outputs": []
    },
    {
      "cell_type": "code",
      "source": [],
      "metadata": {
        "id": "TICbGm40869M"
      },
      "execution_count": null,
      "outputs": []
    },
    {
      "cell_type": "code",
      "source": [
        "r = np.random.rand()"
      ],
      "metadata": {
        "id": "ARJJQWHm87FV"
      },
      "execution_count": null,
      "outputs": []
    },
    {
      "cell_type": "code",
      "source": [
        "r"
      ],
      "metadata": {
        "id": "dlGTmIRK87Ie"
      },
      "execution_count": null,
      "outputs": []
    },
    {
      "cell_type": "code",
      "source": [],
      "metadata": {
        "id": "RsRdXfIB6vhd"
      },
      "execution_count": null,
      "outputs": []
    },
    {
      "cell_type": "code",
      "source": [
        "r = np.random.rand() #2x2 image with random colors determined by generated random values of r, g and b\n",
        "g = np.random.rand()\n",
        "b = np.random.rand()\n",
        "\n",
        "\n",
        "x = np.zeros((2,2,3))\n",
        "\n",
        "x[:,:,0] = r\n",
        "x[:,:,1] = g\n",
        "x[:,:,2] = b\n",
        "\n",
        "\n",
        "plt.imshow(x)"
      ],
      "metadata": {
        "id": "eaawQxKX8-_L"
      },
      "execution_count": null,
      "outputs": []
    },
    {
      "cell_type": "code",
      "source": [],
      "metadata": {
        "id": "RiZSNIf79Ffa"
      },
      "execution_count": null,
      "outputs": []
    },
    {
      "cell_type": "code",
      "source": [
        "for i in range(5): #Creates 5 images\n",
        "\n",
        "    z = np.ones((10,10,3)) #10x10 image with random colors determined by generated random values of r, g and b\n",
        "\n",
        "    r = np.random.rand()\n",
        "    g = np.random.rand()\n",
        "    b = np.random.rand()\n",
        "\n",
        "    print(r,g,b)\n",
        "\n",
        "    z[:,:,0] = r\n",
        "    z[:,:,1] = g\n",
        "    z[:,:,2] = b\n",
        "\n",
        "    plt.imshow(z);\n",
        "    plt.show()"
      ],
      "metadata": {
        "id": "mcnFf8iWVmFq"
      },
      "execution_count": null,
      "outputs": []
    },
    {
      "cell_type": "code",
      "source": [],
      "metadata": {
        "id": "6Ek2JjDXaWd_"
      },
      "execution_count": null,
      "outputs": []
    },
    {
      "cell_type": "code",
      "source": [],
      "metadata": {
        "id": "aMpu4a-yqZ8K"
      },
      "execution_count": null,
      "outputs": []
    },
    {
      "cell_type": "code",
      "source": [
        "for i in range(5): #Creates 5 pairs of images\n",
        "\n",
        "    z1 = np.ones((10,10,3))\n",
        "    z2 = np.ones((10,10,3))\n",
        "\n",
        "    r = np.random.rand()\n",
        "    g = np.random.rand()\n",
        "    b = np.random.rand()\n",
        "#Random colors\n",
        "    z1[:,:,0] = r\n",
        "    z1[:,:,1] = g\n",
        "    z1[:,:,2] = b\n",
        "#Complemantary colors\n",
        "    z2[:,:,0] = 1-r\n",
        "    z2[:,:,1] = 1-g\n",
        "    z2[:,:,2] = 1-b\n",
        "#Single image with z1 and z2 side by side\n",
        "    z3 = np.hstack((z1,z2))\n",
        "\n",
        "    plt.imshow(z3);\n",
        "    plt.show()"
      ],
      "metadata": {
        "id": "1Y0s21HPbNBg"
      },
      "execution_count": null,
      "outputs": []
    },
    {
      "cell_type": "code",
      "source": [],
      "metadata": {
        "id": "FYLvFtobqaAE"
      },
      "execution_count": null,
      "outputs": []
    },
    {
      "cell_type": "code",
      "source": [
        "z1 = np.ones((10,10,3))\n",
        "z1[:,:,0] = np.random.rand()\n",
        "z1[:,:,1] = np.random.rand()\n",
        "z1[:,:,2] = np.random.rand()\n",
        "\n",
        "z2 = np.ones((10,10,3))\n",
        "z2[:,:,0] = np.random.rand()\n",
        "z2[:,:,1] = np.random.rand()\n",
        "z2[:,:,2] = np.random.rand()\n",
        "\n",
        "zavg = (z1+z2)/2 #Intermediate color between the colors of z1 and z2\n",
        "\n",
        "z3 = np.hstack((z1,zavg,z2))\n",
        "\n",
        "plt.imshow(z3);\n",
        "plt.show()"
      ],
      "metadata": {
        "id": "3PHUvtCKqaJY"
      },
      "execution_count": null,
      "outputs": []
    },
    {
      "cell_type": "code",
      "source": [],
      "metadata": {
        "id": "qLMRfLYLqaMS"
      },
      "execution_count": null,
      "outputs": []
    },
    {
      "cell_type": "code",
      "source": [
        "z1 = np.ones((10,10,3))\n",
        "z1[:,:,0] = np.random.rand()\n",
        "z1[:,:,1] = np.random.rand()\n",
        "z1[:,:,2] = np.random.rand()\n",
        "\n",
        "z2 = np.ones((10,10,3))\n",
        "z2[:,:,0] = np.random.rand()\n",
        "z2[:,:,1] = np.random.rand()\n",
        "z2[:,:,2] = np.random.rand()\n",
        "\n",
        "zavg = (z1+z2)/2\n",
        "\n",
        "z1a = (z1+zavg)/2\n",
        "z2a = (z2+zavg)/2\n",
        "\n",
        "z3 = np.hstack((z1,z1a,zavg,z2a,z2)) #Intermediate colors between z1 and zavg and between zavg and z2 resulting in a gradient effect\n",
        "\n",
        "plt.imshow(z3);\n",
        "plt.show()"
      ],
      "metadata": {
        "id": "mX-00vpRaWgy"
      },
      "execution_count": null,
      "outputs": []
    },
    {
      "cell_type": "code",
      "source": [],
      "metadata": {
        "id": "OHNAZsIPU2O5"
      },
      "execution_count": null,
      "outputs": []
    },
    {
      "cell_type": "code",
      "source": [],
      "metadata": {
        "id": "z3JqvgXCay1a"
      },
      "execution_count": null,
      "outputs": []
    },
    {
      "cell_type": "code",
      "source": [
        "for i in range(100): #Creates 100 random gradients\n",
        "\n",
        "    z1 = np.ones((10,10,3))\n",
        "    z1[:,:,0] = np.random.rand()\n",
        "    z1[:,:,1] = np.random.rand()\n",
        "    z1[:,:,2] = np.random.rand()\n",
        "\n",
        "    z2 = np.ones((10,10,3))\n",
        "    z2[:,:,0] = np.random.rand()\n",
        "    z2[:,:,1] = np.random.rand()\n",
        "    z2[:,:,2] = np.random.rand()\n",
        "\n",
        "    zavg = (z1+z2)/2\n",
        "\n",
        "    z1a = (z1+zavg)/2\n",
        "    z2a = (z2+zavg)/2\n",
        "\n",
        "    z3 = np.hstack((z1,z1a,zavg,z2a,z2))\n",
        "\n",
        "    plt.imshow(z3);\n",
        "    plt.show()"
      ],
      "metadata": {
        "id": "UOXsNSkoay3y"
      },
      "execution_count": null,
      "outputs": []
    },
    {
      "cell_type": "code",
      "source": [],
      "metadata": {
        "id": "eJ2Ea9HBbM_X"
      },
      "execution_count": null,
      "outputs": []
    },
    {
      "cell_type": "code",
      "source": [
        "import numpy as np\n",
        "import matplotlib.pyplot as plt\n",
        "\n",
        "def recursive_average(colors):\n",
        "    \"\"\"\n",
        "    Compute the recursive average of the given list of colors.\n",
        "\n",
        "    Parameters:\n",
        "    - colors: List of color arrays\n",
        "\n",
        "    Returns:\n",
        "    - A new list of color arrays containing the recursive averages.\n",
        "    \"\"\"\n",
        "    new_colors = [colors[0]]  #Initialize the list of new colors with the first color.\n",
        "    for i in range(1, len(colors)):  #Iterate over the remaining colors.\n",
        "        avg_color = (colors[i] + new_colors[-1]) / 2.0  #Compute the average of the current color and the previous one.\n",
        "        new_colors.extend([avg_color, colors[i]])  #Add the average color and the current color to the list.\n",
        "    return new_colors  #Return the list of new colors.\n",
        "\n",
        "def generate_recursive_colors_v2(passes):\n",
        "    \"\"\"\n",
        "    Generate a visualization of 2 random colors and their recursive averages for a number of passes.\n",
        "\n",
        "    Parameters:\n",
        "    - passes: Number of times to apply the recursive averaging process\n",
        "\n",
        "    Returns:\n",
        "    - An image showing the 2 endpoint colors and their recursive averages.\n",
        "    \"\"\"\n",
        "    #Start with 2 random colors\n",
        "    colors = [np.ones((10,10,3)) for _ in range(2)]  #Initialize a list to store the colors.\n",
        "    for color in colors:  #Iterate over the colors.\n",
        "        color[:,:,0] = np.random.rand()  #Set the red channel to a random value.\n",
        "        color[:,:,1] = np.random.rand()  #Set the green channel to a random value.\n",
        "        color[:,:,2] = np.random.rand()  #Set the blue channel to a random value.\n",
        "\n",
        "    #Apply the recursive averaging for the specified number of passes\n",
        "    for _ in range(passes):  #Iterate over the number of passes.\n",
        "        colors = recursive_average(colors)  #Apply the recursive averaging function.\n",
        "\n",
        "    #Horizontally stack the colors\n",
        "    result = np.hstack(colors)  #Stack the colors horizontally.\n",
        "\n",
        "    return result  #Return the resulting image."
      ],
      "metadata": {
        "id": "xSZRdPcrsoKW"
      },
      "execution_count": null,
      "outputs": []
    },
    {
      "cell_type": "code",
      "source": [
        "for i in range(5):\n",
        "    img = generate_recursive_colors_v2(i)\n",
        "    plt.imshow(img)\n",
        "    plt.axis('off')\n",
        "    plt.tight_layout()\n",
        "    plt.show()"
      ],
      "metadata": {
        "id": "7KmJdnRI_aXj"
      },
      "execution_count": null,
      "outputs": []
    },
    {
      "cell_type": "code",
      "source": [
        "import numpy as np\n",
        "import matplotlib.pyplot as plt\n",
        "\n",
        "def recursive_average(colors):\n",
        "\n",
        "    new_colors = [colors[0]]\n",
        "    for i in range(1, len(colors)):\n",
        "        avg_color = (colors[i] + new_colors[-1]) / 2.0\n",
        "        new_colors.extend([avg_color, colors[i]])\n",
        "    return new_colors\n",
        "\n",
        "def generate_recursive_colors_v2(passes, initial_colors):\n",
        "\n",
        "    colors = initial_colors.copy()\n",
        "\n",
        "    for _ in range(passes):\n",
        "        colors = recursive_average(colors)\n",
        "\n",
        "    result = np.hstack(colors)\n",
        "\n",
        "    return result\n",
        "\n",
        "initial_colors = [np.ones((10, 10, 3)) for _ in range(2)] #2 random colors\n",
        "for color in initial_colors:\n",
        "    color[:,:,0] = np.random.rand()\n",
        "    color[:,:,1] = np.random.rand()\n",
        "    color[:,:,2] = np.random.rand()\n",
        "\n",
        "passes_values = [0,1,2,3,4] #Number of passes\n",
        "imgs = [generate_recursive_colors_v2(p, initial_colors) for p in passes_values] #Creates images in a row, each with a certain number of passes and a corresponding title\n",
        "\n",
        "fig, axs = plt.subplots(1, len(passes_values), figsize=(15, 5))\n",
        "\n",
        "for ax, img, p in zip(axs, imgs, passes_values):\n",
        "    ax.imshow(img)\n",
        "    ax.axis('off')\n",
        "    ax.set_title(f'Passes={p}')\n",
        "\n",
        "plt.tight_layout()\n",
        "plt.show()\n"
      ],
      "metadata": {
        "id": "RLxEEcFB_v_8"
      },
      "execution_count": null,
      "outputs": []
    },
    {
      "cell_type": "markdown",
      "source": [
        "https://lospec.com/palette-list"
      ],
      "metadata": {
        "id": "ShxAALmgM1uv"
      }
    },
    {
      "cell_type": "code",
      "source": [
        "import numpy as np\n",
        "import matplotlib.pyplot as plt\n",
        "import matplotlib.colors as mcolors\n",
        "import matplotlib\n",
        "import imageio.v2 as imageio\n",
        "from PIL import Image\n",
        "\n",
        "def get_colors_lospec(url):  #Reads an image and returns a custom colormap based on the colors of the image\n",
        "    im = imageio.imread(url)  # Read the image using imageio.\n",
        "    rgb_list = (im / 255)[0, :, 0:3]  # Extract RGB values and normalize them.\n",
        "    float_list = list(np.linspace(0, 1, len(rgb_list)))  # Generate a list of floats from 0 to 1.\n",
        "    cdict = dict()  # Initialize a dictionary to store color data.\n",
        "    for num, col in enumerate(['red', 'green', 'blue']):  # Iterate over RGB channels.\n",
        "        col_list = [[float_list[i], rgb_list[i][num], rgb_list[i][num]] for i in range(len(float_list))]  # Create color data for the channel.\n",
        "        cdict[col] = col_list  # Store color data in the dictionary.\n",
        "    cmp = mcolors.LinearSegmentedColormap('my_cmp', segmentdata=cdict, N=256)  # Create a custom colormap.\n",
        "    return cmp  # Return the custom colormap."
      ],
      "metadata": {
        "id": "CRKnDKcrWGA0"
      },
      "execution_count": null,
      "outputs": []
    },
    {
      "cell_type": "code",
      "source": [
        "url = 'https://lospec.com/palette-list/agb-32x.png'\n",
        "im = imageio.imread(url)\n",
        "plt.imshow(im);"
      ],
      "metadata": {
        "id": "d4zuPhl7S0hM"
      },
      "execution_count": null,
      "outputs": []
    },
    {
      "cell_type": "code",
      "source": [
        "url = 'https://lospec.com/palette-list/agb-1x.png'\n",
        "im = imageio.imread(url)\n",
        "plt.imshow(im);"
      ],
      "metadata": {
        "id": "N6slVKqSXSSd"
      },
      "execution_count": null,
      "outputs": []
    },
    {
      "cell_type": "code",
      "source": [
        "url = 'https://lospec.com/palette-list/moondrom-1x.png'\n",
        "im = imageio.imread(url)\n",
        "plt.imshow(im);"
      ],
      "metadata": {
        "id": "E9x4ENWMRtIZ"
      },
      "execution_count": null,
      "outputs": []
    },
    {
      "cell_type": "code",
      "source": [
        "z = np.random.randint(0,255,size=(10,10)) #Creates a 10x10 greyscale image. Each pixel presents a random intensity value from 0 to 255"
      ],
      "metadata": {
        "id": "eLq5CnVtTD3d"
      },
      "execution_count": null,
      "outputs": []
    },
    {
      "cell_type": "code",
      "source": [
        "plt.imshow(z, cmap=get_colors_lospec(url)) #Creates a 10x10 image. Each pixel presents a random color from a specific color map\n",
        "plt.colorbar(); #It represents the range of colors present in the image and their corresponding intensity values"
      ],
      "metadata": {
        "id": "OZ34VY76RtIa"
      },
      "execution_count": null,
      "outputs": []
    },
    {
      "cell_type": "code",
      "source": [
        "x, y = np.mgrid[-5:5:0.05, -5:5:0.05]  #Creates a grid of points with values from -5 to 5\n",
        "z = np.sqrt(x**2 + y**2) #Calculates Euclidean distance between the origin and each point"
      ],
      "metadata": {
        "id": "uaZ4Le1FRsIr"
      },
      "execution_count": null,
      "outputs": []
    },
    {
      "cell_type": "code",
      "source": [
        "x"
      ],
      "metadata": {
        "id": "tomfOioMAZqs"
      },
      "execution_count": null,
      "outputs": []
    },
    {
      "cell_type": "code",
      "source": [
        "y"
      ],
      "metadata": {
        "id": "kAYvN5DJAf6R"
      },
      "execution_count": null,
      "outputs": []
    },
    {
      "cell_type": "code",
      "source": [
        "z = np.sqrt(x**2 + y**2)"
      ],
      "metadata": {
        "id": "1GCPit2jAkl6"
      },
      "execution_count": null,
      "outputs": []
    },
    {
      "cell_type": "code",
      "source": [
        "z.shape #Creates a 200x200 grid"
      ],
      "metadata": {
        "id": "5WnrBNlAA-oA"
      },
      "execution_count": null,
      "outputs": []
    },
    {
      "cell_type": "code",
      "source": [
        "plt.imshow(x)"
      ],
      "metadata": {
        "id": "jNOs-AwwAzfy"
      },
      "execution_count": null,
      "outputs": []
    },
    {
      "cell_type": "code",
      "source": [
        "plt.imshow(y)"
      ],
      "metadata": {
        "id": "glMvWHJmA2mb"
      },
      "execution_count": null,
      "outputs": []
    },
    {
      "cell_type": "code",
      "source": [
        "z"
      ],
      "metadata": {
        "id": "XfxqQfLHAlrD"
      },
      "execution_count": null,
      "outputs": []
    },
    {
      "cell_type": "code",
      "source": [
        "plt.imshow(z, cmap=get_colors_lospec(url));\n",
        "plt.show()"
      ],
      "metadata": {
        "id": "SUQnFHxOAYqA"
      },
      "execution_count": null,
      "outputs": []
    },
    {
      "cell_type": "code",
      "source": [],
      "metadata": {
        "id": "-IMCG6S7tP2K"
      },
      "execution_count": null,
      "outputs": []
    },
    {
      "cell_type": "code",
      "source": [
        "x, y = np.mgrid[-5:5:0.05, -5:5:0.05] #Creates a sinusoidal pattern along the y axis\n",
        "\n",
        "z = np.sin(3*y)\n",
        "\n",
        "plt.imshow(z, cmap=get_colors_lospec(url));\n",
        "plt.show()"
      ],
      "metadata": {
        "id": "70-fD1hyegyl"
      },
      "execution_count": null,
      "outputs": []
    },
    {
      "cell_type": "code",
      "source": [
        "x, y = np.mgrid[-5:5:0.05, -5:5:0.05] ##Creates a sinusoidal pattern along the x axis\n",
        "\n",
        "z = np.sin(3*x)\n",
        "\n",
        "plt.imshow(z, cmap=get_colors_lospec(url));\n",
        "plt.show()"
      ],
      "metadata": {
        "id": "LVoMUtwOyfuY"
      },
      "execution_count": null,
      "outputs": []
    },
    {
      "cell_type": "code",
      "source": [
        "x, y = np.mgrid[-5:5:0.05, -5:5:0.05] #Creates a combined sinusoidal pattern in the xy-plane\n",
        "\n",
        "z = np.sin(3*y)*np.sin(3*x)\n",
        "\n",
        "plt.imshow(z, cmap=get_colors_lospec(url));\n",
        "plt.show()"
      ],
      "metadata": {
        "id": "DMRAq0NUAyk2"
      },
      "execution_count": null,
      "outputs": []
    },
    {
      "cell_type": "code",
      "source": [],
      "metadata": {
        "id": "NCgWMg1vA6iv"
      },
      "execution_count": null,
      "outputs": []
    }
  ]
}